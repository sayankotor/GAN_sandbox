{
 "cells": [
  {
   "cell_type": "code",
   "execution_count": 1,
   "metadata": {
    "collapsed": true
   },
   "outputs": [],
   "source": [
    "import argparse\n",
    "import numpy as np\n",
    "from scipy.stats import norm\n",
    "import tensorflow as tf\n",
    "import matplotlib.pyplot as plt\n",
    "from matplotlib import animation, rc\n",
    "import seaborn as sns\n",
    "from IPython.display import HTML"
   ]
  },
  {
   "cell_type": "code",
   "execution_count": null,
   "metadata": {},
   "outputs": [],
   "source": [
    "seed = 42\n",
    "np.random.seed(seed)\n",
    "tf.set_random_seed(seed)\n",
    "session = tf.InteractiveSession()"
   ]
  },
  {
   "cell_type": "code",
   "execution_count": null,
   "metadata": {
    "collapsed": true
   },
   "outputs": [],
   "source": [
    "class DataDistribution(object):\n",
    "    def __init__(self):\n",
    "        self.mu = -1\n",
    "        self.sigma = 1\n",
    "\n",
    "    def sample(self, N):\n",
    "        samples = np.random.normal(self.mu, self.sigma, N)\n",
    "        samples.sort()\n",
    "        return samples      \n"
   ]
  },
  {
   "cell_type": "code",
   "execution_count": null,
   "metadata": {
    "collapsed": true
   },
   "outputs": [],
   "source": [
    "class GeneratorDistribution(object):\n",
    "    def __init__(self, range):\n",
    "        self.range = range\n",
    "\n",
    "    def sample(self, N):\n",
    "        return np.linspace(-self.range, self.range, N) + \\\n",
    "            np.random.random(N) * 0.01\n"
   ]
  },
  {
   "cell_type": "code",
   "execution_count": null,
   "metadata": {
    "collapsed": true
   },
   "outputs": [],
   "source": [
    "tf.reset_default_graph()\n",
    "def mlp(input, h_dim):\n",
    "    init_const = tf.constant_initializer(0.0)\n",
    "    init_norm = tf.random_normal_initializer()\n",
    "    w0 = tf.get_variable('w0', [input.get_shape()[1], h_dim], initializer=init_norm)\n",
    "    b0 = tf.get_variable('b0', [h_dim], initializer=init_const)\n",
    "    w1 = tftf.get_variable_scope().get_variable('w1', [h_dim, h_dim], initializer=init_norm)\n",
    "    b1 = tf.get_variable('b1', [h_dim], initializer=init_const)\n",
    "    h0 = tf.tanh(tf.matmul(input, w0) + b0)\n",
    "    h1 = tf.tanh(tf.matmul(h0, w1) + b1)\n",
    "    return h1, [w0, b0, w1, b1]\n",
    "\n",
    "\n",
    "def generator(input, h_dim):\n",
    "    #transform, params = mlp(input, h_dim)\n",
    "    transform = tf.layers.dense(input, 4, activation=tf.nn.sigmoid)\n",
    "    init_const = tf.constant_initializer(0.0)\n",
    "    init_norm = tf.random_normal_initializer()\n",
    "    w = tf.get_variable('g_w', [h_dim, 1], initializer=init_norm)\n",
    "    b = tf.get_variable('g_b', [1], initializer=init_const)\n",
    "    h = tf.matmul(transform, w) + b\n",
    "    return h, [w, b]\n",
    "\n",
    "\n",
    "def discriminator(input, h_dim):\n",
    "    #transform, params = mlp(input, h_dim)\n",
    "    with tf.variable_scope(tf.get_variable_scope(), reuse=False):\n",
    "        transform = tf.layers.dense(input, 4, activation=tf.nn.sigmoid)\n",
    "        init_const = tf.constant_initializer(0.0)\n",
    "        init_norm = tf.random_normal_initializer()\n",
    "        w = tf.get_variable('d_w', [h_dim, 1], initializer=init_norm)\n",
    "        b = tf.get_variable('d_b', [1], initializer=init_const)\n",
    "        h = tf.sigmoid(tf.matmul(transform, w) + b)\n",
    "    return h, [w, b]\n",
    "\n"
   ]
  },
  {
   "cell_type": "code",
   "execution_count": null,
   "metadata": {
    "collapsed": true
   },
   "outputs": [],
   "source": [
    "def optimizer(loss, var_list, num_decay_steps=400, initial_learning_rate=0.03):\n",
    "    decay = 0.95\n",
    "    batch = tf.Variable(0)\n",
    "    learning_rate = tf.train.exponential_decay(\n",
    "        initial_learning_rate,\n",
    "        batch,\n",
    "        num_decay_steps,\n",
    "        decay,\n",
    "        staircase=True\n",
    "    )\n",
    "    optimizer = tf.train.GradientDescentOptimizer(learning_rate).minimize(\n",
    "        loss,\n",
    "        global_step=batch,\n",
    "        var_list=var_list\n",
    "    )\n",
    "    return optimizer\n"
   ]
  },
  {
   "cell_type": "code",
   "execution_count": null,
   "metadata": {
    "collapsed": true
   },
   "outputs": [],
   "source": [
    "def plot_distributions(GAN, session, loss_d, loss_g):\n",
    "    num_points = 100000\n",
    "    num_bins = 100\n",
    "    xs = np.linspace(-GAN.gen.range, GAN.gen.range, num_points)\n",
    "    bins = np.linspace(-GAN.gen.range, GAN.gen.range, num_bins)\n",
    "\n",
    "    # p(data)\n",
    "    d_sample = GAN.data.sample(num_points)\n",
    "\n",
    "    # decision boundary\n",
    "    ds = np.zeros((num_points, 1))  # decision surface\n",
    "    for i in range(num_points // GAN.batch_size):\n",
    "        ds[GAN.batch_size * i:GAN.batch_size * (i + 1)] = session.run(GAN.D1, {\n",
    "            GAN.x: np.reshape(xs[GAN.batch_size * i:GAN.batch_size * (i + 1)], (GAN.batch_size, 1))\n",
    "        })\n",
    "\n",
    "    # p(generator)\n",
    "    zs = np.linspace(-GAN.gen.range, GAN.gen.range, num_points)\n",
    "    gs = np.zeros((num_points, 1))  # generator function\n",
    "    for i in range(num_points // GAN.batch_size):\n",
    "        gs[GAN.batch_size * i:GAN.batch_size * (i + 1)] = session.run(GAN.G, {\n",
    "            GAN.z: np.reshape(\n",
    "                zs[GAN.batch_size * i:GAN.batch_size * (i + 1)],\n",
    "                (GAN.batch_size, 1)\n",
    "            )\n",
    "        })\n",
    "           \n",
    "    anim_frames.append((d_sample, ds, gs, loss_d, loss_g))"
   ]
  },
  {
   "cell_type": "markdown",
   "metadata": {},
   "source": [
    "## Build GAN ##"
   ]
  },
  {
   "cell_type": "code",
   "execution_count": null,
   "metadata": {
    "collapsed": true
   },
   "outputs": [],
   "source": [
    "\n",
    "\n",
    "class GAN(object):\n",
    "    def __init__(self, data, gen, num_epochs):\n",
    "        self.data = data\n",
    "        self.gen = gen\n",
    "        self.num_epochs = num_epochs\n",
    "        self.log_every = 100\n",
    "        self.anim_frame_every = 5\n",
    "        self.batch_size = 128\n",
    "        self.mlp_hidden_size = 4\n",
    "        self._create_model()\n",
    "\n",
    "    def _create_model(self):\n",
    "        # In order to make sure that the discriminator is providing useful gradient\n",
    "        # information to the generator from the start, we're going to pretrain the\n",
    "        # discriminator using a maximum likelihood objective. We define the network\n",
    "        # for this pretraining step scoped as D_pre.\n",
    "        with tf.variable_scope('D_pre'):\n",
    "            self.pre_input = tf.placeholder(tf.float32, shape=(self.batch_size, 1))\n",
    "            self.pre_labels = tf.placeholder(tf.float32, shape=(self.batch_size, 1))\n",
    "            D, self.pre_theta = discriminator(self.pre_input, self.mlp_hidden_size)\n",
    "            self.pre_loss = tf.reduce_mean(tf.square(D - self.pre_labels))\n",
    "            self.pre_opt = optimizer(self.pre_loss, None, self.num_epochs)\n",
    "        \n",
    "        # This defines the generator network - it takes samples from a noise\n",
    "        # distribution as input, and passes them through an MLP.\n",
    "        with tf.variable_scope('G'):\n",
    "            self.z = tf.placeholder(tf.float32, shape=(self.batch_size, 1))\n",
    "            self.G, theta_g = generator(self.z, self.mlp_hidden_size)\n",
    "\n",
    "        # The discriminator tries to tell the difference between samples from the\n",
    "        # true data distribution (self.x) and the generated samples (self.z).\n",
    "        #\n",
    "        # Here we create two copies of the discriminator network (that share parameters),\n",
    "        # as you cannot use the same network with different inputs in TensorFlow.\n",
    "        with tf.variable_scope('D') as scope:\n",
    "            self.x = tf.placeholder(tf.float32, shape=(self.batch_size, 1))\n",
    "            self.D1, self.theta_d1 = discriminator(self.x, self.mlp_hidden_size) # discriminator return output, parameters w\n",
    "            scope.reuse_variables()\n",
    "            self.D2, self.theta_d2 = discriminator(self.G, self.mlp_hidden_size)\n",
    "\n",
    "        # Define the loss for discriminator and generator networks (see the original\n",
    "        # paper for details), and create optimizers for both\n",
    "        self.loss_d = tf.reduce_mean(-tf.log(self.D1) - tf.log(1 - self.D2))\n",
    "        self.loss_g = tf.reduce_mean(-tf.log(self.D2))\n",
    "\n",
    "        self.opt_d = optimizer(self.loss_d, self.theta_d2, self.num_epochs)\n",
    "        self.opt_g = optimizer(self.loss_g, theta_g, self.num_epochs)\n",
    "    \n",
    "    def train(self):\n",
    "        with tf.Session() as sess:\n",
    "            tf.initialize_all_variables().run()\n",
    "\n",
    "            # discriminator pretraining\n",
    "            num_pretrain_steps = 1000\n",
    "            for step in range(num_pretrain_steps):\n",
    "                d = (np.random.random(self.batch_size) - 0.5) * 10.0\n",
    "                labels = norm.pdf(d, loc=self.data.mu, scale=self.data.sigma)\n",
    "                pretrain_loss, _ = sess.run([self.pre_loss, self.pre_opt], {\n",
    "                    self.pre_input: np.reshape(d, (self.batch_size, 1)),\n",
    "                    self.pre_labels: np.reshape(labels, (self.batch_size, 1))\n",
    "                })\n",
    "            self.weightsD = sess.run(self.pre_theta)\n",
    "\n",
    "            # copy weights from pre-training over to new D network\n",
    "            for i, v in enumerate(self.theta_d2):\n",
    "                sess.run(v.assign(self.weightsD[i]))\n",
    "\n",
    "            for step in range(self.num_epochs):\n",
    "                # update discriminator\n",
    "                x = self.data.sample(self.batch_size)\n",
    "                z = self.gen.sample(self.batch_size)\n",
    "\n",
    "                loss_d, _ = sess.run([self.loss_d, self.opt_d], {\n",
    "                    self.x: np.reshape(x, (self.batch_size, 1)),\n",
    "                    self.z: np.reshape(z, (self.batch_size, 1))\n",
    "                })\n",
    "\n",
    "                # update generator\n",
    "                z = self.gen.sample(self.batch_size)\n",
    "                loss_g, _ = sess.run([self.loss_g, self.opt_g], {\n",
    "                    self.z: np.reshape(z, (self.batch_size, 1))\n",
    "                })\n",
    "\n",
    "                if step % self.log_every == 0:\n",
    "                    print('{}: {}\\t{}'.format(step, loss_d, loss_g))\n",
    "\n",
    "                if step % self.anim_frame_every == 0:\n",
    "                    plot_distributions(self, sess, loss_d, loss_g)\n",
    "\n"
   ]
  },
  {
   "cell_type": "markdown",
   "metadata": {},
   "source": [
    "## Train it ##"
   ]
  },
  {
   "cell_type": "code",
   "execution_count": 10,
   "metadata": {},
   "outputs": [
    {
     "name": "stdout",
     "output_type": "stream",
     "text": [
      "WARNING:tensorflow:From /opt/conda/anaconda3/lib/python3.6/site-packages/tensorflow/python/util/tf_should_use.py:170: initialize_all_variables (from tensorflow.python.ops.variables) is deprecated and will be removed after 2017-03-02.\n",
      "Instructions for updating:\n",
      "Use `tf.global_variables_initializer` instead.\n",
      "0: 1.5814834833145142\t2.679872989654541\n",
      "100: 1.6006397008895874\t0.5811111927032471\n",
      "200: 1.6606817245483398\t0.6210818290710449\n",
      "300: 1.630526065826416\t0.6781877279281616\n",
      "400: 1.4981492757797241\t0.7302600145339966\n",
      "500: 1.389216661453247\t0.7783166170120239\n",
      "600: 1.2902300357818604\t0.8209351897239685\n",
      "700: 1.238429307937622\t0.8435788154602051\n",
      "800: 1.238168478012085\t0.8297225832939148\n",
      "900: 1.3233582973480225\t0.7224015593528748\n",
      "1000: 1.6081864833831787\t0.5473091006278992\n",
      "1100: 1.5243510007858276\t0.5747977495193481\n",
      "1200: 1.2689722776412964\t0.7056764960289001\n",
      "1300: 1.261521816253662\t0.7040892839431763\n",
      "1400: 1.4150832891464233\t0.6589254140853882\n",
      "1500: 1.457550048828125\t0.6833699345588684\n",
      "1600: 1.4378355741500854\t0.7169946432113647\n",
      "1700: 1.384455680847168\t0.7427726984024048\n",
      "1800: 1.344477653503418\t0.7547268867492676\n",
      "1900: 1.3395076990127563\t0.7401188015937805\n",
      "2000: 1.404975175857544\t0.6921463012695312\n",
      "2100: 1.444523572921753\t0.6410608291625977\n",
      "2200: 1.409010887145996\t0.6464580297470093\n",
      "2300: 1.3489880561828613\t0.6777749061584473\n",
      "2400: 1.366477370262146\t0.6813410520553589\n"
     ]
    }
   ],
   "source": [
    "anim_frames = []\n",
    "num_epochs = 2500\n",
    "model = GAN(DataDistribution(), GeneratorDistribution(range=8), num_epochs)\n",
    "model.train()"
   ]
  },
  {
   "cell_type": "code",
   "execution_count": 16,
   "metadata": {},
   "outputs": [
    {
     "data": {
      "text/plain": [
       "300"
      ]
     },
     "execution_count": 16,
     "metadata": {},
     "output_type": "execute_result"
    }
   ],
   "source": [
    "len(anim_frames)"
   ]
  },
  {
   "cell_type": "code",
   "execution_count": 15,
   "metadata": {},
   "outputs": [
    {
     "data": {
      "text/plain": [
       "<matplotlib.legend.Legend at 0x7fe504748b00>"
      ]
     },
     "execution_count": 15,
     "metadata": {},
     "output_type": "execute_result"
    },
    {
     "name": "stderr",
     "output_type": "stream",
     "text": [
      "/opt/conda/anaconda3/lib/python3.6/site-packages/matplotlib/font_manager.py:1297: UserWarning: findfont: Font family ['sans-serif'] not found. Falling back to DejaVu Sans\n",
      "  (prop.get_family(), self.defaultFamily[fontext]))\n"
     ]
    },
    {
     "data": {
      "image/png": "[encoded data removed]",
      "text/plain": [
       "<matplotlib.figure.Figure at 0x7fe549db5b38>"
      ]
     },
     "metadata": {},
     "output_type": "display_data"
    }
   ],
   "source": [
    "bins = np.linspace(-5, 5, 50)\n",
    "x = np.linspace(-5, 5, 100000)\n",
    "\n",
    "f, ax = plt.subplots(figsize=(6,4))\n",
    "f.suptitle('1D Generative Adversarial Network', fontsize=15)\n",
    "plt.ylabel('Probability')\n",
    "ax.set_xlim(-6, 6)\n",
    "ax.set_ylim(0, 2.5)\n",
    "line_d, = ax.plot([], [], label='p_d')\n",
    "line_ds, = ax.plot([], [], label='decision boundary')\n",
    "line_g, = ax.plot([], [], label='p_g')\n",
    "\n",
    "histd, _ = np.histogram(anim_frames[299][0], bins=bins, normed=True)\n",
    "line_d.set_data(bins[1:], histd)\n",
    "\n",
    "ds = anim_frames[299][1]\n",
    "line_ds.set_data(x, ds)\n",
    "\n",
    "histg, _ = np.histogram(anim_frames[299][2], bins=bins, normed=True)\n",
    "line_g.set_data(bins[1:], histg)\n",
    "\n",
    "frame_text = ax.text(0.02, 0.95,'',horizontalalignment='left',verticalalignment='top', transform=ax.transAxes)\n",
    "ax.legend()"
   ]
  },
  {
   "cell_type": "code",
   "execution_count": 20,
   "metadata": {},
   "outputs": [
    {
     "data": {
      "text/plain": [
       "array([-5.        , -4.79591837, -4.59183673, -4.3877551 , -4.18367347,\n",
       "       -3.97959184, -3.7755102 , -3.57142857, -3.36734694, -3.16326531,\n",
       "       -2.95918367, -2.75510204, -2.55102041, -2.34693878, -2.14285714,\n",
       "       -1.93877551, -1.73469388, -1.53061224, -1.32653061, -1.12244898,\n",
       "       -0.91836735, -0.71428571, -0.51020408, -0.30612245, -0.10204082,\n",
       "        0.10204082,  0.30612245,  0.51020408,  0.71428571,  0.91836735,\n",
       "        1.12244898,  1.32653061,  1.53061224,  1.73469388,  1.93877551,\n",
       "        2.14285714,  2.34693878,  2.55102041,  2.75510204,  2.95918367,\n",
       "        3.16326531,  3.36734694,  3.57142857,  3.7755102 ,  3.97959184,\n",
       "        4.18367347,  4.3877551 ,  4.59183673,  4.79591837,  5.        ])"
      ]
     },
     "execution_count": 20,
     "metadata": {},
     "output_type": "execute_result"
    }
   ],
   "source": [
    "print(session.run(a))\n"
   ]
  },
  {
   "cell_type": "code",
   "execution_count": 29,
   "metadata": {},
   "outputs": [
    {
     "ename": "IndexError",
     "evalue": "list index out of range",
     "output_type": "error",
     "traceback": [
      "\u001b[0;31m---------------------------------------------------------------------------\u001b[0m",
      "\u001b[0;31mIndexError\u001b[0m                                Traceback (most recent call last)",
      "\u001b[0;32m<ipython-input-29-6e0fa7c5af82>\u001b[0m in \u001b[0;36m<module>\u001b[0;34m()\u001b[0m\n\u001b[1;32m      2\u001b[0m \u001b[0mx\u001b[0m \u001b[0;34m=\u001b[0m \u001b[0mnp\u001b[0m\u001b[0;34m.\u001b[0m\u001b[0mlinspace\u001b[0m\u001b[0;34m(\u001b[0m\u001b[0;34m-\u001b[0m\u001b[0;36m5\u001b[0m\u001b[0;34m,\u001b[0m \u001b[0;36m5\u001b[0m\u001b[0;34m,\u001b[0m \u001b[0;36m100000\u001b[0m\u001b[0;34m)\u001b[0m\u001b[0;34m\u001b[0m\u001b[0m\n\u001b[1;32m      3\u001b[0m \u001b[0;34m\u001b[0m\u001b[0m\n\u001b[0;32m----> 4\u001b[0;31m \u001b[0mhistd\u001b[0m\u001b[0;34m,\u001b[0m \u001b[0m_\u001b[0m \u001b[0;34m=\u001b[0m \u001b[0mnp\u001b[0m\u001b[0;34m.\u001b[0m\u001b[0mhistogram\u001b[0m\u001b[0;34m(\u001b[0m\u001b[0manim_frames\u001b[0m\u001b[0;34m[\u001b[0m\u001b[0;36m199\u001b[0m\u001b[0;34m]\u001b[0m\u001b[0;34m[\u001b[0m\u001b[0;36m0\u001b[0m\u001b[0;34m]\u001b[0m\u001b[0;34m,\u001b[0m \u001b[0mbins\u001b[0m\u001b[0;34m=\u001b[0m\u001b[0mbins\u001b[0m\u001b[0;34m,\u001b[0m \u001b[0mnormed\u001b[0m\u001b[0;34m=\u001b[0m\u001b[0;32mTrue\u001b[0m\u001b[0;34m)\u001b[0m\u001b[0;34m\u001b[0m\u001b[0m\n\u001b[0m\u001b[1;32m      5\u001b[0m \u001b[0mline_d\u001b[0m\u001b[0;34m.\u001b[0m\u001b[0mset_data\u001b[0m\u001b[0;34m(\u001b[0m\u001b[0mbins\u001b[0m\u001b[0;34m[\u001b[0m\u001b[0;36m1\u001b[0m\u001b[0;34m:\u001b[0m\u001b[0;34m]\u001b[0m\u001b[0;34m,\u001b[0m \u001b[0mhistd\u001b[0m\u001b[0;34m)\u001b[0m\u001b[0;34m\u001b[0m\u001b[0m\n\u001b[1;32m      6\u001b[0m \u001b[0;34m\u001b[0m\u001b[0m\n",
      "\u001b[0;31mIndexError\u001b[0m: list index out of range"
     ]
    }
   ],
   "source": [
    "bins = np.linspace(-5, 5, 50)\n",
    "x = np.linspace(-5, 5, 100000)\n",
    "\n",
    "histd, _ = np.histogram(anim_frames[199][0], bins=bins, normed=True)\n",
    "line_d.set_data(bins[1:], histd)\n",
    "\n",
    "ds = anim_frames[199][1]\n",
    "line_ds.set_data(x, ds)\n",
    "\n",
    "histg, _ = np.histogram(anim_frames[199][2], bins=bins, normed=True)\n",
    "line_g.set_data(bins[1:], histg)\n",
    "\n",
    "frame_text.set_text('Timestep = %.1d/%.1d' % (199, len(anim_frames)))"
   ]
  },
  {
   "cell_type": "code",
   "execution_count": 13,
   "metadata": {},
   "outputs": [
    {
     "name": "stdout",
     "output_type": "stream",
     "text": [
      "Populating the interactive namespace from numpy and matplotlib\n"
     ]
    },
    {
     "name": "stderr",
     "output_type": "stream",
     "text": [
      "/opt/conda/anaconda3/lib/python3.6/site-packages/IPython/core/magics/pylab.py:161: UserWarning: pylab import has clobbered these variables: ['seed', 'f', 'norm', 'rc']\n",
      "`%matplotlib` prevents importing * from pylab and numpy\n",
      "  \"\\n`%matplotlib` prevents importing * from pylab and numpy\"\n"
     ]
    }
   ],
   "source": [
    "%pylab inline"
   ]
  },
  {
   "cell_type": "markdown",
   "metadata": {
    "collapsed": true
   },
   "source": [
    "## отладка##"
   ]
  },
  {
   "cell_type": "code",
   "execution_count": null,
   "metadata": {
    "collapsed": true
   },
   "outputs": [],
   "source": [
    "tf.reset_default_graph()\n",
    "_input = tf.placeholder(tf.float32, shape=(128, 1))\n",
    "nn = tf.layers.dense(_input, 4, activation=tf.nn.sigmoid)\n",
    "transform = tf.layers.dense(nn, 4, activation=tf.nn.sigmoid)\n",
    "transform_1, params = mlp(_input, 4)\n",
    "init_const = tf.constant_initializer(0.0)\n",
    "init_norm = tf.random_normal_initializer()\n",
    "w = tf.get_variable('d_w', [4, 1], initializer=init_norm)\n",
    "b = tf.get_variable('d_b', [1], initializer=init_const)\n",
    "print ('transform.shape', transform.get_shape)\n",
    "print ('w.shape', w.get_shape)\n",
    "print ('b.shape', b.get_shape)\n",
    "res = tf.matmul(transform, w) + b\n",
    "print ('res.shape', res.get_shape)"
   ]
  }
 ],
 "metadata": {
  "kernelspec": {
   "display_name": "Python 3",
   "language": "python",
   "name": "python3"
  },
  "language_info": {
   "codemirror_mode": {
    "name": "ipython",
    "version": 3
   },
   "file_extension": ".py",
   "mimetype": "text/x-python",
   "name": "python",
   "nbconvert_exporter": "python",
   "pygments_lexer": "ipython3",
   "version": "3.6.1"
  }
 },
 "nbformat": 4,
 "nbformat_minor": 2
}
