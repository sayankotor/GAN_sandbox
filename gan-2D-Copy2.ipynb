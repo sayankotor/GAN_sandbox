{
 "cells": [
  {
   "cell_type": "code",
   "execution_count": 23,
   "metadata": {},
   "outputs": [
    {
     "name": "stdout",
     "output_type": "stream",
     "text": [
      "env: CUDA_VISIBLE_DEVICES=2\n"
     ]
    }
   ],
   "source": [
    "%env CUDA_VISIBLE_DEVICES=2\n",
    "import numpy as np\n",
    "import tensorflow as tf\n",
    "sess = tf.InteractiveSession()\n",
    "from keras.layers import *\n",
    "from keras.models import Sequential"
   ]
  },
  {
   "cell_type": "code",
   "execution_count": 24,
   "metadata": {
    "collapsed": true
   },
   "outputs": [],
   "source": [
    "import argparse\n",
    "import numpy as np\n",
    "from scipy.stats import norm\n",
    "import tensorflow as tf\n",
    "import matplotlib.pyplot as plt\n",
    "from matplotlib import animation, rc\n",
    "import seaborn as sns\n",
    "from IPython.display import HTML"
   ]
  },
  {
   "cell_type": "code",
   "execution_count": 25,
   "metadata": {
    "collapsed": true
   },
   "outputs": [],
   "source": [
    "import numpy as np\n",
    "data = np.load('GAN_sandbox/ecalNT.npz')"
   ]
  },
  {
   "cell_type": "code",
   "execution_count": 26,
   "metadata": {},
   "outputs": [
    {
     "data": {
      "text/plain": [
       "['TotalEnergySci',\n",
       " 'TotalEnergyAbsorb',\n",
       " 'ParticlePoint',\n",
       " 'EnergyDeposit',\n",
       " 'ParticlePDG',\n",
       " 'ParticleMomentum']"
      ]
     },
     "execution_count": 26,
     "metadata": {},
     "output_type": "execute_result"
    }
   ],
   "source": [
    "data.files"
   ]
  },
  {
   "cell_type": "code",
   "execution_count": 27,
   "metadata": {},
   "outputs": [
    {
     "name": "stdout",
     "output_type": "stream",
     "text": [
      "(10000, 30, 30)\n"
     ]
    }
   ],
   "source": [
    "IMG_SHAPE = data['EnergyDeposit'][9].shape\n",
    "data_img = data['EnergyDeposit']\n",
    "data_img = np.log(np.where (data_img>0, data_img, 1e-12))\n",
    "print (data_img.shape)"
   ]
  },
  {
   "cell_type": "code",
   "execution_count": 28,
   "metadata": {},
   "outputs": [],
   "source": [
    "def normalize_response(v):\n",
    "    mean_ = np.mean(v,axis=(1,2))\n",
    "    std_ = np.std(v,axis=(1,2))\n",
    "    return ((v - np.mean(v,axis=(1,2))[:,None,None]) / (np.std(v,axis=(1,2))[:,None,None]+1e-9), mean_,std_)\n",
    "\n",
    "def normalize_response_mean(v):\n",
    "    mean_ = np.mean(v,axis=(0,1,2))\n",
    "    std_ = np.std(v,axis=(0,1,2))\n",
    "    return ((v - mean_) / std_+1e-9, mean_,std_)\n",
    "\n",
    "def denormalize_response(v, mean_, std_):\n",
    "    answ = []\n",
    "    for ind, elem in enumerate(v):\n",
    "        #print (elem)\n",
    "        answ.append(elem*std_[ind] + mean_[ind])\n",
    "    return np.array(answ)\n",
    "\n",
    "def denormalize_response_mean(v, mean_, std_):\n",
    "    answ = []\n",
    "    for ind, elem in enumerate(v):\n",
    "        #print (np.sum(elem))\n",
    "        answ.append(elem*std_ + mean_)\n",
    "    return np.array(answ)"
   ]
  },
  {
   "cell_type": "code",
   "execution_count": 29,
   "metadata": {},
   "outputs": [
    {
     "name": "stdout",
     "output_type": "stream",
     "text": [
      "-24.7226418485 8.60606335952\n"
     ]
    }
   ],
   "source": [
    "a = normalize_response(data_img)\n",
    "b = denormalize_response(a[0], a[1], a[2])\n",
    "a = normalize_response_mean(data_img)\n",
    "print (np.mean(a[1]), np.mean(a[2]))\n",
    "b_mean = denormalize_response_mean(a[0], a[1], a[2])"
   ]
  },
  {
   "cell_type": "code",
   "execution_count": 30,
   "metadata": {},
   "outputs": [
    {
     "data": {
      "text/plain": [
       "array([ -39.53544068,   25.67050341,   25.70726398, ...,  -45.78070308,\n",
       "        120.23175905,  -45.90925669])"
      ]
     },
     "execution_count": 30,
     "metadata": {},
     "output_type": "execute_result"
    }
   ],
   "source": [
    "np.sum(a[0], axis=(1,2))"
   ]
  },
  {
   "cell_type": "code",
   "execution_count": 31,
   "metadata": {},
   "outputs": [
    {
     "data": {
      "text/plain": [
       "array([-22590.62217883, -22029.45569256, -22029.13932876, ...,\n",
       "       -22644.36930276, -21215.65553523, -22645.47564324])"
      ]
     },
     "execution_count": 31,
     "metadata": {},
     "output_type": "execute_result"
    }
   ],
   "source": [
    "np.sum(b, axis=(1,2))"
   ]
  },
  {
   "cell_type": "code",
   "execution_count": 32,
   "metadata": {},
   "outputs": [
    {
     "data": {
      "text/plain": [
       "array([-22590.62217108, -22029.45568482, -22029.13932102, ...,\n",
       "       -22644.36929502, -21215.65552748, -22645.4756355 ])"
      ]
     },
     "execution_count": 32,
     "metadata": {},
     "output_type": "execute_result"
    }
   ],
   "source": [
    "np.sum(b_mean, axis=(1,2))"
   ]
  },
  {
   "cell_type": "code",
   "execution_count": 33,
   "metadata": {
    "collapsed": true
   },
   "outputs": [],
   "source": [
    "b_mean = denormalize_response_mean(a[0], np.mean(a[1]), np.mean(a[2]))"
   ]
  },
  {
   "cell_type": "markdown",
   "metadata": {},
   "source": [
    "**correctness of normalizing**"
   ]
  },
  {
   "cell_type": "code",
   "execution_count": 34,
   "metadata": {},
   "outputs": [
    {
     "name": "stderr",
     "output_type": "stream",
     "text": [
      "/opt/conda/anaconda3/lib/python3.6/site-packages/matplotlib/font_manager.py:1297: UserWarning: findfont: Font family ['sans-serif'] not found. Falling back to DejaVu Sans\n",
      "  (prop.get_family(), self.defaultFamily[fontext]))\n"
     ]
    },
    {
     "data": {
      "image/png": "[encoded data removed]",
      "text/plain": [
       "<matplotlib.figure.Figure at 0x7face9f41438>"
      ]
     },
     "metadata": {},
     "output_type": "display_data"
    }
   ],
   "source": [
    "plt.hist(np.sum(data_img, axis=(1,2)), bins = 50, alpha = 0.5)\n",
    "#plt.hist(np.sum(b, axis=(1,2)), bins = 50, alpha = 0.5)\n",
    "plt.hist(np.sum(b_mean, axis=(1,2)), bins = 50, alpha = 0.5)\n",
    "plt.show()"
   ]
  },
  {
   "cell_type": "markdown",
   "metadata": {
    "collapsed": true
   },
   "source": [
    "## explore data ##"
   ]
  },
  {
   "cell_type": "code",
   "execution_count": 35,
   "metadata": {},
   "outputs": [
    {
     "name": "stderr",
     "output_type": "stream",
     "text": [
      "/opt/conda/anaconda3/lib/python3.6/site-packages/matplotlib/font_manager.py:1297: UserWarning: findfont: Font family ['sans-serif'] not found. Falling back to DejaVu Sans\n",
      "  (prop.get_family(), self.defaultFamily[fontext]))\n"
     ]
    },
    {
     "data": {
      "image/png": "[encoded data removed]",
      "text/plain": [
       "<matplotlib.figure.Figure at 0x7face15caba8>"
      ]
     },
     "metadata": {},
     "output_type": "display_data"
    },
    {
     "ename": "NameError",
     "evalue": "name 'flat_data' is not defined",
     "output_type": "error",
     "traceback": [
      "\u001b[0;31m---------------------------------------------------------------------------\u001b[0m",
      "\u001b[0;31mNameError\u001b[0m                                 Traceback (most recent call last)",
      "\u001b[0;32m<ipython-input-35-1459e1482ee6>\u001b[0m in \u001b[0;36m<module>\u001b[0;34m()\u001b[0m\n\u001b[1;32m      1\u001b[0m \u001b[0mplt\u001b[0m\u001b[0;34m.\u001b[0m\u001b[0mhist\u001b[0m\u001b[0;34m(\u001b[0m\u001b[0mnp\u001b[0m\u001b[0;34m.\u001b[0m\u001b[0msum\u001b[0m\u001b[0;34m(\u001b[0m\u001b[0mdata_img\u001b[0m\u001b[0;34m,\u001b[0m \u001b[0maxis\u001b[0m\u001b[0;34m=\u001b[0m\u001b[0;34m(\u001b[0m\u001b[0;36m1\u001b[0m\u001b[0;34m,\u001b[0m\u001b[0;36m2\u001b[0m\u001b[0;34m)\u001b[0m\u001b[0;34m)\u001b[0m\u001b[0;34m,\u001b[0m \u001b[0mbins\u001b[0m \u001b[0;34m=\u001b[0m \u001b[0;36m50\u001b[0m\u001b[0;34m)\u001b[0m\u001b[0;34m\u001b[0m\u001b[0m\n\u001b[1;32m      2\u001b[0m \u001b[0mplt\u001b[0m\u001b[0;34m.\u001b[0m\u001b[0mshow\u001b[0m\u001b[0;34m(\u001b[0m\u001b[0;34m)\u001b[0m\u001b[0;34m\u001b[0m\u001b[0m\n\u001b[0;32m----> 3\u001b[0;31m \u001b[0mplt\u001b[0m\u001b[0;34m.\u001b[0m\u001b[0mhist\u001b[0m\u001b[0;34m(\u001b[0m\u001b[0mflat_data\u001b[0m\u001b[0;34m,\u001b[0m \u001b[0mbins\u001b[0m \u001b[0;34m=\u001b[0m \u001b[0;36m250\u001b[0m\u001b[0;34m)\u001b[0m\u001b[0;34m\u001b[0m\u001b[0m\n\u001b[0m\u001b[1;32m      4\u001b[0m \u001b[0mplt\u001b[0m\u001b[0;34m.\u001b[0m\u001b[0mylim\u001b[0m\u001b[0;34m(\u001b[0m\u001b[0;34m[\u001b[0m\u001b[0;36m0\u001b[0m\u001b[0;34m,\u001b[0m \u001b[0;36m250000\u001b[0m\u001b[0;34m]\u001b[0m\u001b[0;34m)\u001b[0m\u001b[0;34m\u001b[0m\u001b[0m\n\u001b[1;32m      5\u001b[0m \u001b[0;31m#plt.xlim([-0, 0.1])\u001b[0m\u001b[0;34m\u001b[0m\u001b[0;34m\u001b[0m\u001b[0m\n",
      "\u001b[0;31mNameError\u001b[0m: name 'flat_data' is not defined"
     ]
    }
   ],
   "source": [
    "plt.hist(np.sum(data_img, axis=(1,2)), bins = 50)\n",
    "plt.show()\n",
    "plt.hist(flat_data, bins = 250)\n",
    "plt.ylim([0, 250000])\n",
    "#plt.xlim([-0, 0.1])\n",
    "plt.show()"
   ]
  },
  {
   "cell_type": "code",
   "execution_count": 36,
   "metadata": {},
   "outputs": [
    {
     "name": "stdout",
     "output_type": "stream",
     "text": [
      "REAL\n"
     ]
    },
    {
     "name": "stderr",
     "output_type": "stream",
     "text": [
      "/opt/conda/anaconda3/lib/python3.6/site-packages/matplotlib/font_manager.py:1297: UserWarning: findfont: Font family ['sans-serif'] not found. Falling back to DejaVu Sans\n",
      "  (prop.get_family(), self.defaultFamily[fontext]))\n"
     ]
    },
    {
     "data": {
      "image/png": "[encoded data removed]",
      "text/plain": [
       "<matplotlib.figure.Figure at 0x7face9fff5c0>"
      ]
     },
     "metadata": {},
     "output_type": "display_data"
    },
    {
     "data": {
      "image/png": "[encoded data removed]",
      "text/plain": [
       "<matplotlib.figure.Figure at 0x7face1447be0>"
      ]
     },
     "metadata": {},
     "output_type": "display_data"
    },
    {
     "data": {
      "image/png": "[encoded data removed]",
      "text/plain": [
       "<matplotlib.figure.Figure at 0x7face5d10c18>"
      ]
     },
     "metadata": {},
     "output_type": "display_data"
    }
   ],
   "source": [
    "idxs = np.random.choice(np.arange(100), size=3)\n",
    "print ('REAL')\n",
    "for ind, elem in enumerate(a[0][idxs]):\n",
    "    #print (np.log(elem+1))\n",
    "    plt.imshow(elem)\n",
    "    plt.colorbar()\n",
    "    plt.show()"
   ]
  },
  {
   "cell_type": "code",
   "execution_count": 37,
   "metadata": {},
   "outputs": [
    {
     "data": {
      "text/plain": [
       "900"
      ]
     },
     "execution_count": 37,
     "metadata": {},
     "output_type": "execute_result"
    }
   ],
   "source": [
    "np.prod(np.array(IMG_SHAPE))"
   ]
  },
  {
   "cell_type": "code",
   "execution_count": 38,
   "metadata": {},
   "outputs": [
    {
     "data": {
      "text/plain": [
       "[None, 30, 30]"
      ]
     },
     "execution_count": 38,
     "metadata": {},
     "output_type": "execute_result"
    }
   ],
   "source": [
    "[None,]+list(IMG_SHAPE)"
   ]
  },
  {
   "cell_type": "code",
   "execution_count": 39,
   "metadata": {},
   "outputs": [
    {
     "name": "stdout",
     "output_type": "stream",
     "text": [
      "(64,)\n",
      "(900,)\n",
      "(900,)\n",
      "(32,)\n",
      "(32,)\n",
      "(2,)\n",
      "<bound method Tensor.get_shape of <tf.Tensor 'Placeholder_1:0' shape=(?, 30, 30) dtype=float32>>\n",
      "<bound method Tensor.get_shape of <tf.Tensor 'sequential_1/reshape_1/Reshape:0' shape=(?, 30, 30) dtype=float32>>\n"
     ]
    }
   ],
   "source": [
    "CODE_SIZE = 32\n",
    "\n",
    "tf.reset_default_graph()\n",
    "gen = Sequential()\n",
    "gen.add(InputLayer([CODE_SIZE]))\n",
    "gen.add(Dense(16, activation='elu'))\n",
    "gen.add(Dense(64, activation='elu'))\n",
    "print (gen.output_shape[1:])\n",
    "gen.add(Dense(64, activation='elu'))\n",
    "gen.add(Dense(np.prod(np.array(IMG_SHAPE))))\n",
    "print (gen.output_shape[1:])\n",
    "gen.add(Reshape((IMG_SHAPE), input_shape=(np.prod(np.array(IMG_SHAPE)),)))\n",
    "disc = Sequential()\n",
    "disc.add(InputLayer(list(IMG_SHAPE)))\n",
    "disc.add(Flatten())\n",
    "print (disc.output_shape[1:])\n",
    "disc.add(Dense(32, activation='elu'))\n",
    "print (disc.output_shape[1:])\n",
    "#disc.add(Dense(64, activation='elu'))\n",
    "print (disc.output_shape[1:])\n",
    "disc.add(Dense(2))\n",
    "print (disc.output_shape[1:])\n",
    "\n",
    "batch_size = tf.placeholder_with_default(128, [])\n",
    "\n",
    "z = tf.placeholder('float32',[None,CODE_SIZE])\n",
    "real_data = tf.placeholder('float32',[None,]+list(IMG_SHAPE))\n",
    "\n",
    "weight_0 = disc.layers[0].output\n",
    "weight_1 = disc.layers[1].get_weights()\n",
    "\n",
    "gen_data = gen(z)\n",
    "print (real_data.get_shape)\n",
    "print (gen_data.get_shape)\n",
    "logits_on_real_data = disc(real_data)\n",
    "logits_on_gen_data = disc(gen_data)\n",
    "\n",
    "\n",
    "IS_REAL = 1\n",
    "IS_FAKE = 0\n",
    "\n",
    "disc_loss = - 0.5 * tf.reduce_mean( tf.nn.log_softmax(logits_on_real_data)[:, IS_REAL] \n",
    "                                   +tf.nn.log_softmax(logits_on_gen_data)[:, IS_FAKE])\n",
    "\n",
    "gen_loss = - tf.reduce_mean(tf.nn.log_softmax(logits_on_gen_data)[:, IS_REAL])\n",
    "\n",
    "\n",
    "train_gen = tf.train.GradientDescentOptimizer(1e-2).minimize(gen_loss, var_list = gen.trainable_weights)\n",
    "train_disc = tf.train.GradientDescentOptimizer(1e-3).minimize(disc_loss, var_list = disc.trainable_weights)"
   ]
  },
  {
   "cell_type": "code",
   "execution_count": 40,
   "metadata": {
    "collapsed": true
   },
   "outputs": [],
   "source": [
    "sess = tf.InteractiveSession()\n",
    "sess.run(tf.global_variables_initializer())"
   ]
  },
  {
   "cell_type": "code",
   "execution_count": 41,
   "metadata": {
    "collapsed": true
   },
   "outputs": [],
   "source": [
    "def sample_noise_batch(bsize):\n",
    "    return np.random.normal(loc=2.0, scale=0.5,size=(bsize, CODE_SIZE)).astype('float32')\n",
    "\n",
    "def sample_data_batch(bsize):\n",
    "    idxs = np.random.choice(np.arange(a[0].shape[0]), size=bsize)\n",
    "    return a[0][idxs]"
   ]
  },
  {
   "cell_type": "code",
   "execution_count": 42,
   "metadata": {},
   "outputs": [
    {
     "name": "stdout",
     "output_type": "stream",
     "text": [
      "3.97221 -0.101192\n",
      "3.84289273178 -0.337945369133\n"
     ]
    }
   ],
   "source": [
    "print (np.max(sample_noise_batch(1000)), np.min(sample_noise_batch(1000)))\n",
    "print (np.max(sample_data_batch(1000)), np.min(sample_data_batch(1000)))"
   ]
  },
  {
   "cell_type": "code",
   "execution_count": 43,
   "metadata": {
    "collapsed": true
   },
   "outputs": [],
   "source": [
    "\n",
    "feed_dict = {\n",
    "        real_data:sample_data_batch(100),\n",
    "        z:sample_noise_batch(100)\n",
    "    }\n",
    "#sess.run(train_disc, feed_dict)\n",
    "#sess.run(train_gen, feed_dict)   "
   ]
  },
  {
   "cell_type": "code",
   "execution_count": 44,
   "metadata": {},
   "outputs": [
    {
     "name": "stdout",
     "output_type": "stream",
     "text": [
      "i 26000\n",
      "891.628\n",
      "(2, 2)\n",
      "2.77013\n",
      "-0.585172\n",
      "[[ 1.06329083  1.06774771]\n",
      " [-0.36504281 -0.36890048]]\n"
     ]
    },
    {
     "data": {
      "image/png": "[encoded data removed]",
      "text/plain": [
       "<matplotlib.figure.Figure at 0x7face15e8b70>"
      ]
     },
     "metadata": {},
     "output_type": "display_data"
    },
    {
     "ename": "KeyboardInterrupt",
     "evalue": "",
     "output_type": "error",
     "traceback": [
      "\u001b[0;31m---------------------------------------------------------------------------\u001b[0m",
      "\u001b[0;31mKeyboardInterrupt\u001b[0m                         Traceback (most recent call last)",
      "\u001b[0;32m<ipython-input-44-f683e95cef0a>\u001b[0m in \u001b[0;36m<module>\u001b[0;34m()\u001b[0m\n\u001b[1;32m     11\u001b[0m     }\n\u001b[1;32m     12\u001b[0m     \u001b[0;32mfor\u001b[0m \u001b[0m_\u001b[0m \u001b[0;32min\u001b[0m \u001b[0mrange\u001b[0m\u001b[0;34m(\u001b[0m\u001b[0;36m3\u001b[0m\u001b[0;34m)\u001b[0m\u001b[0;34m:\u001b[0m\u001b[0;34m\u001b[0m\u001b[0m\n\u001b[0;32m---> 13\u001b[0;31m         \u001b[0msess\u001b[0m\u001b[0;34m.\u001b[0m\u001b[0mrun\u001b[0m\u001b[0;34m(\u001b[0m\u001b[0mtrain_disc\u001b[0m\u001b[0;34m,\u001b[0m \u001b[0mfeed_dict\u001b[0m\u001b[0;34m)\u001b[0m\u001b[0;34m\u001b[0m\u001b[0m\n\u001b[0m\u001b[1;32m     14\u001b[0m     \u001b[0msess\u001b[0m\u001b[0;34m.\u001b[0m\u001b[0mrun\u001b[0m\u001b[0;34m(\u001b[0m\u001b[0mtrain_gen\u001b[0m\u001b[0;34m,\u001b[0m \u001b[0mfeed_dict\u001b[0m\u001b[0;34m)\u001b[0m\u001b[0;34m\u001b[0m\u001b[0m\n\u001b[1;32m     15\u001b[0m \u001b[0;34m\u001b[0m\u001b[0m\n",
      "\u001b[0;32m/opt/conda/anaconda3/lib/python3.6/site-packages/tensorflow/python/client/session.py\u001b[0m in \u001b[0;36mrun\u001b[0;34m(self, fetches, feed_dict, options, run_metadata)\u001b[0m\n\u001b[1;32m    787\u001b[0m     \u001b[0;32mtry\u001b[0m\u001b[0;34m:\u001b[0m\u001b[0;34m\u001b[0m\u001b[0m\n\u001b[1;32m    788\u001b[0m       result = self._run(None, fetches, feed_dict, options_ptr,\n\u001b[0;32m--> 789\u001b[0;31m                          run_metadata_ptr)\n\u001b[0m\u001b[1;32m    790\u001b[0m       \u001b[0;32mif\u001b[0m \u001b[0mrun_metadata\u001b[0m\u001b[0;34m:\u001b[0m\u001b[0;34m\u001b[0m\u001b[0m\n\u001b[1;32m    791\u001b[0m         \u001b[0mproto_data\u001b[0m \u001b[0;34m=\u001b[0m \u001b[0mtf_session\u001b[0m\u001b[0;34m.\u001b[0m\u001b[0mTF_GetBuffer\u001b[0m\u001b[0;34m(\u001b[0m\u001b[0mrun_metadata_ptr\u001b[0m\u001b[0;34m)\u001b[0m\u001b[0;34m\u001b[0m\u001b[0m\n",
      "\u001b[0;32m/opt/conda/anaconda3/lib/python3.6/site-packages/tensorflow/python/client/session.py\u001b[0m in \u001b[0;36m_run\u001b[0;34m(self, handle, fetches, feed_dict, options, run_metadata)\u001b[0m\n\u001b[1;32m    995\u001b[0m     \u001b[0;32mif\u001b[0m \u001b[0mfinal_fetches\u001b[0m \u001b[0;32mor\u001b[0m \u001b[0mfinal_targets\u001b[0m\u001b[0;34m:\u001b[0m\u001b[0;34m\u001b[0m\u001b[0m\n\u001b[1;32m    996\u001b[0m       results = self._do_run(handle, final_targets, final_fetches,\n\u001b[0;32m--> 997\u001b[0;31m                              feed_dict_string, options, run_metadata)\n\u001b[0m\u001b[1;32m    998\u001b[0m     \u001b[0;32melse\u001b[0m\u001b[0;34m:\u001b[0m\u001b[0;34m\u001b[0m\u001b[0m\n\u001b[1;32m    999\u001b[0m       \u001b[0mresults\u001b[0m \u001b[0;34m=\u001b[0m \u001b[0;34m[\u001b[0m\u001b[0;34m]\u001b[0m\u001b[0;34m\u001b[0m\u001b[0m\n",
      "\u001b[0;32m/opt/conda/anaconda3/lib/python3.6/site-packages/tensorflow/python/client/session.py\u001b[0m in \u001b[0;36m_do_run\u001b[0;34m(self, handle, target_list, fetch_list, feed_dict, options, run_metadata)\u001b[0m\n\u001b[1;32m   1130\u001b[0m     \u001b[0;32mif\u001b[0m \u001b[0mhandle\u001b[0m \u001b[0;32mis\u001b[0m \u001b[0;32mNone\u001b[0m\u001b[0;34m:\u001b[0m\u001b[0;34m\u001b[0m\u001b[0m\n\u001b[1;32m   1131\u001b[0m       return self._do_call(_run_fn, self._session, feed_dict, fetch_list,\n\u001b[0;32m-> 1132\u001b[0;31m                            target_list, options, run_metadata)\n\u001b[0m\u001b[1;32m   1133\u001b[0m     \u001b[0;32melse\u001b[0m\u001b[0;34m:\u001b[0m\u001b[0;34m\u001b[0m\u001b[0m\n\u001b[1;32m   1134\u001b[0m       return self._do_call(_prun_fn, self._session, handle, feed_dict,\n",
      "\u001b[0;32m/opt/conda/anaconda3/lib/python3.6/site-packages/tensorflow/python/client/session.py\u001b[0m in \u001b[0;36m_do_call\u001b[0;34m(self, fn, *args)\u001b[0m\n\u001b[1;32m   1137\u001b[0m   \u001b[0;32mdef\u001b[0m \u001b[0m_do_call\u001b[0m\u001b[0;34m(\u001b[0m\u001b[0mself\u001b[0m\u001b[0;34m,\u001b[0m \u001b[0mfn\u001b[0m\u001b[0;34m,\u001b[0m \u001b[0;34m*\u001b[0m\u001b[0margs\u001b[0m\u001b[0;34m)\u001b[0m\u001b[0;34m:\u001b[0m\u001b[0;34m\u001b[0m\u001b[0m\n\u001b[1;32m   1138\u001b[0m     \u001b[0;32mtry\u001b[0m\u001b[0;34m:\u001b[0m\u001b[0;34m\u001b[0m\u001b[0m\n\u001b[0;32m-> 1139\u001b[0;31m       \u001b[0;32mreturn\u001b[0m \u001b[0mfn\u001b[0m\u001b[0;34m(\u001b[0m\u001b[0;34m*\u001b[0m\u001b[0margs\u001b[0m\u001b[0;34m)\u001b[0m\u001b[0;34m\u001b[0m\u001b[0m\n\u001b[0m\u001b[1;32m   1140\u001b[0m     \u001b[0;32mexcept\u001b[0m \u001b[0merrors\u001b[0m\u001b[0;34m.\u001b[0m\u001b[0mOpError\u001b[0m \u001b[0;32mas\u001b[0m \u001b[0me\u001b[0m\u001b[0;34m:\u001b[0m\u001b[0;34m\u001b[0m\u001b[0m\n\u001b[1;32m   1141\u001b[0m       \u001b[0mmessage\u001b[0m \u001b[0;34m=\u001b[0m \u001b[0mcompat\u001b[0m\u001b[0;34m.\u001b[0m\u001b[0mas_text\u001b[0m\u001b[0;34m(\u001b[0m\u001b[0me\u001b[0m\u001b[0;34m.\u001b[0m\u001b[0mmessage\u001b[0m\u001b[0;34m)\u001b[0m\u001b[0;34m\u001b[0m\u001b[0m\n",
      "\u001b[0;32m/opt/conda/anaconda3/lib/python3.6/site-packages/tensorflow/python/client/session.py\u001b[0m in \u001b[0;36m_run_fn\u001b[0;34m(session, feed_dict, fetch_list, target_list, options, run_metadata)\u001b[0m\n\u001b[1;32m   1119\u001b[0m         return tf_session.TF_Run(session, options,\n\u001b[1;32m   1120\u001b[0m                                  \u001b[0mfeed_dict\u001b[0m\u001b[0;34m,\u001b[0m \u001b[0mfetch_list\u001b[0m\u001b[0;34m,\u001b[0m \u001b[0mtarget_list\u001b[0m\u001b[0;34m,\u001b[0m\u001b[0;34m\u001b[0m\u001b[0m\n\u001b[0;32m-> 1121\u001b[0;31m                                  status, run_metadata)\n\u001b[0m\u001b[1;32m   1122\u001b[0m \u001b[0;34m\u001b[0m\u001b[0m\n\u001b[1;32m   1123\u001b[0m     \u001b[0;32mdef\u001b[0m \u001b[0m_prun_fn\u001b[0m\u001b[0;34m(\u001b[0m\u001b[0msession\u001b[0m\u001b[0;34m,\u001b[0m \u001b[0mhandle\u001b[0m\u001b[0;34m,\u001b[0m \u001b[0mfeed_dict\u001b[0m\u001b[0;34m,\u001b[0m \u001b[0mfetch_list\u001b[0m\u001b[0;34m)\u001b[0m\u001b[0;34m:\u001b[0m\u001b[0;34m\u001b[0m\u001b[0m\n",
      "\u001b[0;31mKeyboardInterrupt\u001b[0m: "
     ]
    }
   ],
   "source": [
    "import matplotlib.pyplot as plt\n",
    "from IPython.display import clear_output\n",
    "%matplotlib inline\n",
    "\n",
    "r_ = []\n",
    "g_ = []\n",
    "for i in range(100000):\n",
    "    feed_dict = {\n",
    "        real_data:sample_data_batch(100),\n",
    "        z:sample_noise_batch(100)\n",
    "    }\n",
    "    for _ in range(3):\n",
    "        sess.run(train_disc, feed_dict)\n",
    "    sess.run(train_gen, feed_dict)\n",
    "    \n",
    "    if i % 1000 == 0:\n",
    "        print ('i', i)\n",
    "        clear_output(True)\n",
    "        print ('i', i)\n",
    "        print(np.sum((sess.run(real_data, feed_dict))))\n",
    "        print (sess.run(logits_on_real_data[:2], feed_dict).shape)\n",
    "        print (np.max(sess.run(logits_on_real_data, feed_dict)))\n",
    "        print (np.min(sess.run(logits_on_real_data, feed_dict)))\n",
    "        print(sess.run(logits_on_real_data, feed_dict)[:2])\n",
    "        #print(len((sess.run(weight_0, feed_dict))[:2]))\n",
    "        plt.hist(sess.run(tf.nn.softmax(logits_on_real_data)[:, IS_REAL], feed_dict), range=[0, 1], alpha=0.5, normed=True)\n",
    "        plt.hist(sess.run(tf.nn.softmax(logits_on_gen_data)[:, IS_REAL], feed_dict), range=[0, 1], alpha=0.5, normed=True)\n",
    "        plt.show()\n",
    "        #plt.hist(sess.run(tf.nn.softmax(logits_on_real_data)[:, IS_REAL], feed_dict))\n",
    "                 #range=[0, 1], alpha=0.5)\n",
    "        #plt.hist(sess.run(tf.nn.softmax(logits_on_gen_data)[:, IS_REAL], feed_dict))\n",
    "                # range=[0, 1], alpha=0.5)\n",
    "        real_ = sess.run(real_data, feed_dict)\n",
    "        gen_ =  sess.run(gen_data, feed_dict)\n",
    "        r_.append(real_)\n",
    "        g_.append(gen_)\n",
    "        plt.show()"
   ]
  },
  {
   "cell_type": "code",
   "execution_count": 46,
   "metadata": {},
   "outputs": [
    {
     "name": "stdout",
     "output_type": "stream",
     "text": [
      "(27, 100, 30, 30) (27, 100, 30, 30)\n"
     ]
    }
   ],
   "source": [
    "print (np.array(r_).shape, np.array(g_).shape)\n",
    "nr_ = np.array(r_).reshape(27*100, 30, 30)\n",
    "ng_ = np.array(g_).reshape(27*100, 30, 30)"
   ]
  },
  {
   "cell_type": "code",
   "execution_count": 47,
   "metadata": {},
   "outputs": [
    {
     "data": {
      "text/plain": [
       "array([[[-0.33794537, -0.33794537, -0.33794537, ..., -0.33794537,\n",
       "         -0.33794537, -0.33794537],\n",
       "        [-0.33794537, -0.33794537, -0.33794537, ..., -0.33794537,\n",
       "         -0.33794537, -0.33794537],\n",
       "        [-0.33794537, -0.33794537, -0.33794537, ..., -0.33794537,\n",
       "         -0.33794537, -0.33794537],\n",
       "        ..., \n",
       "        [-0.33794537, -0.33794537, -0.33794537, ..., -0.33794537,\n",
       "         -0.33794537, -0.33794537],\n",
       "        [-0.33794537, -0.33794537, -0.33794537, ..., -0.33794537,\n",
       "         -0.33794537, -0.33794537],\n",
       "        [-0.33794537, -0.33794537, -0.33794537, ..., -0.33794537,\n",
       "         -0.33794537, -0.33794537]],\n",
       "\n",
       "       [[-0.33794537, -0.33794537, -0.33794537, ..., -0.33794537,\n",
       "         -0.33794537, -0.33794537],\n",
       "        [-0.33794537, -0.33794537, -0.33794537, ..., -0.33794537,\n",
       "         -0.33794537, -0.33794537],\n",
       "        [-0.33794537, -0.33794537, -0.33794537, ..., -0.33794537,\n",
       "         -0.33794537, -0.33794537],\n",
       "        ..., \n",
       "        [-0.33794537, -0.33794537, -0.33794537, ..., -0.33794537,\n",
       "         -0.33794537, -0.33794537],\n",
       "        [-0.33794537, -0.33794537, -0.33794537, ..., -0.33794537,\n",
       "         -0.33794537, -0.33794537],\n",
       "        [-0.33794537, -0.33794537, -0.33794537, ..., -0.33794537,\n",
       "         -0.33794537, -0.33794537]],\n",
       "\n",
       "       [[-0.33794537, -0.33794537, -0.33794537, ..., -0.33794537,\n",
       "         -0.33794537, -0.33794537],\n",
       "        [-0.33794537, -0.33794537, -0.33794537, ..., -0.33794537,\n",
       "         -0.33794537, -0.33794537],\n",
       "        [-0.33794537, -0.33794537, -0.33794537, ..., -0.33794537,\n",
       "         -0.33794537, -0.33794537],\n",
       "        ..., \n",
       "        [-0.33794537, -0.33794537, -0.33794537, ..., -0.33794537,\n",
       "         -0.33794537, -0.33794537],\n",
       "        [-0.33794537, -0.33794537, -0.33794537, ..., -0.33794537,\n",
       "         -0.33794537, -0.33794537],\n",
       "        [-0.33794537, -0.33794537, -0.33794537, ..., -0.33794537,\n",
       "         -0.33794537, -0.33794537]],\n",
       "\n",
       "       ..., \n",
       "       [[-0.33794537, -0.33794537, -0.33794537, ..., -0.33794537,\n",
       "         -0.33794537, -0.33794537],\n",
       "        [-0.33794537, -0.33794537, -0.33794537, ..., -0.33794537,\n",
       "         -0.33794537, -0.33794537],\n",
       "        [-0.33794537, -0.33794537, -0.33794537, ..., -0.33794537,\n",
       "         -0.33794537, -0.33794537],\n",
       "        ..., \n",
       "        [-0.33794537, -0.33794537, -0.33794537, ..., -0.33794537,\n",
       "         -0.33794537, -0.33794537],\n",
       "        [-0.33794537, -0.33794537, -0.33794537, ..., -0.33794537,\n",
       "         -0.33794537, -0.33794537],\n",
       "        [-0.33794537, -0.33794537, -0.33794537, ..., -0.33794537,\n",
       "         -0.33794537, -0.33794537]],\n",
       "\n",
       "       [[-0.33794537, -0.33794537, -0.33794537, ..., -0.33794537,\n",
       "         -0.33794537, -0.33794537],\n",
       "        [-0.33794537, -0.33794537, -0.33794537, ..., -0.33794537,\n",
       "         -0.33794537, -0.33794537],\n",
       "        [-0.33794537, -0.33794537, -0.33794537, ..., -0.33794537,\n",
       "         -0.33794537, -0.33794537],\n",
       "        ..., \n",
       "        [-0.33794537, -0.33794537, -0.33794537, ..., -0.33794537,\n",
       "         -0.33794537, -0.33794537],\n",
       "        [-0.33794537, -0.33794537, -0.33794537, ..., -0.33794537,\n",
       "         -0.33794537, -0.33794537],\n",
       "        [-0.33794537, -0.33794537, -0.33794537, ..., -0.33794537,\n",
       "         -0.33794537, -0.33794537]],\n",
       "\n",
       "       [[-0.33794537, -0.33794537, -0.33794537, ..., -0.33794537,\n",
       "         -0.33794537, -0.33794537],\n",
       "        [-0.33794537, -0.33794537, -0.33794537, ..., -0.33794537,\n",
       "         -0.33794537, -0.33794537],\n",
       "        [-0.33794537, -0.33794537, -0.33794537, ..., -0.33794537,\n",
       "         -0.33794537, -0.33794537],\n",
       "        ..., \n",
       "        [-0.33794537, -0.33794537, -0.33794537, ..., -0.33794537,\n",
       "         -0.33794537, -0.33794537],\n",
       "        [-0.33794537, -0.33794537, -0.33794537, ..., -0.33794537,\n",
       "         -0.33794537, -0.33794537],\n",
       "        [-0.33794537, -0.33794537, -0.33794537, ..., -0.33794537,\n",
       "         -0.33794537, -0.33794537]]], dtype=float32)"
      ]
     },
     "execution_count": 47,
     "metadata": {},
     "output_type": "execute_result"
    }
   ],
   "source": [
    "r_[0]"
   ]
  },
  {
   "cell_type": "code",
   "execution_count": 48,
   "metadata": {},
   "outputs": [
    {
     "name": "stdout",
     "output_type": "stream",
     "text": [
      "REAL\n"
     ]
    },
    {
     "name": "stderr",
     "output_type": "stream",
     "text": [
      "/opt/conda/anaconda3/lib/python3.6/site-packages/matplotlib/font_manager.py:1297: UserWarning: findfont: Font family ['sans-serif'] not found. Falling back to DejaVu Sans\n",
      "  (prop.get_family(), self.defaultFamily[fontext]))\n"
     ]
    },
    {
     "data": {
      "image/png": "[encoded data removed]",
      "text/plain": [
       "<matplotlib.figure.Figure at 0x7face9f79198>"
      ]
     },
     "metadata": {},
     "output_type": "display_data"
    },
    {
     "name": "stdout",
     "output_type": "stream",
     "text": [
      "GEN\n"
     ]
    },
    {
     "data": {
      "image/png": "[encoded data removed]",
      "text/plain": [
       "<matplotlib.figure.Figure at 0x7faccc0064a8>"
      ]
     },
     "metadata": {},
     "output_type": "display_data"
    }
   ],
   "source": [
    "idxs = np.random.choice(np.arange(100), size=3)\n",
    "print ('REAL')\n",
    "fig, ax = plt.subplots(nrows=1, ncols=3, figsize=(15,15))\n",
    "for ind, elem in enumerate(real_[idxs]):\n",
    "    plt.subplot(3, 1, ind+1)\n",
    "    plt.imshow(elem)\n",
    "    plt.title('real')\n",
    "    plt.colorbar()\n",
    "plt.savefig('sq_real.png')\n",
    "plt.show()\n",
    "print ('GEN')\n",
    "fig, ax = plt.subplots(nrows=1, ncols=3, figsize=(15,15))\n",
    "for ind, elem in enumerate(gen_[idxs]):\n",
    "    plt.subplot(3, 1, ind+1)\n",
    "    plt.imshow(elem)\n",
    "    plt.title('gen')\n",
    "    plt.colorbar()\n",
    "plt.savefig('sq_gen.png')\n",
    "plt.show()"
   ]
  },
  {
   "cell_type": "code",
   "execution_count": 49,
   "metadata": {},
   "outputs": [
    {
     "name": "stderr",
     "output_type": "stream",
     "text": [
      "/opt/conda/anaconda3/lib/python3.6/site-packages/matplotlib/font_manager.py:1297: UserWarning: findfont: Font family ['sans-serif'] not found. Falling back to DejaVu Sans\n",
      "  (prop.get_family(), self.defaultFamily[fontext]))\n"
     ]
    },
    {
     "data": {
      "image/png": "[encoded data removed]",
      "text/plain": [
       "<matplotlib.figure.Figure at 0x7face14b1358>"
      ]
     },
     "metadata": {},
     "output_type": "display_data"
    }
   ],
   "source": [
    "plt.hist(np.sum(nr_, axis=(1,2)), bins=50, alpha = 0.75, label = 'real')\n",
    "plt.hist(np.sum(ng_, axis=(1,2)), bins=50, alpha = 0.5, label = 'gen')\n",
    "plt.legend()\n",
    "plt.savefig('my_gan_energy.png')\n",
    "plt.show()"
   ]
  },
  {
   "cell_type": "code",
   "execution_count": null,
   "metadata": {
    "collapsed": true
   },
   "outputs": [],
   "source": []
  }
 ],
 "metadata": {
  "kernelspec": {
   "display_name": "Python 3",
   "language": "python",
   "name": "python3"
  },
  "language_info": {
   "codemirror_mode": {
    "name": "ipython",
    "version": 3
   },
   "file_extension": ".py",
   "mimetype": "text/x-python",
   "name": "python",
   "nbconvert_exporter": "python",
   "pygments_lexer": "ipython3",
   "version": "3.6.1"
  }
 },
 "nbformat": 4,
 "nbformat_minor": 2
}
